{
  "nbformat": 4,
  "nbformat_minor": 0,
  "metadata": {
    "colab": {
      "name": "blockchain.ipynb",
      "version": "0.3.2",
      "provenance": [],
      "collapsed_sections": [],
      "toc_visible": true,
      "include_colab_link": true
    },
    "kernelspec": {
      "name": "python3",
      "display_name": "Python 3"
    }
  },
  "cells": [
    {
      "cell_type": "markdown",
      "metadata": {
        "id": "view-in-github",
        "colab_type": "text"
      },
      "source": [
        "[View in Colaboratory](https://colab.research.google.com/github/vghorakavi/InfectiousBlockchain/blob/blockchain/blockchain.ipynb)"
      ]
    },
    {
      "metadata": {
        "id": "09sM8lWNH_l7",
        "colab_type": "code",
        "colab": {
          "base_uri": "https://localhost:8080/",
          "height": 139
        },
        "outputId": "5a40b815-95ae-4b84-cb12-a2d35b7e238c"
      },
      "cell_type": "code",
      "source": [
        "#!pip install easy_blockchain\n",
        "!pip install py-solc"
      ],
      "execution_count": 35,
      "outputs": [
        {
          "output_type": "stream",
          "text": [
            "Collecting py-solc\n",
            "  Downloading https://files.pythonhosted.org/packages/47/74/d36abca3f36ccdcd04976c50f83502c870623e5beb4a4ec96c7bad4bb9e8/py_solc-3.2.0-py3-none-any.whl\n",
            "Collecting semantic-version>=2.6.0 (from py-solc)\n",
            "  Downloading https://files.pythonhosted.org/packages/28/be/3a7241d731ba89063780279a5433f5971c1cf41735b64a9f874b7c3ff995/semantic_version-2.6.0-py3-none-any.whl\n",
            "Installing collected packages: semantic-version, py-solc\n",
            "Successfully installed py-solc-3.2.0 semantic-version-2.6.0\n"
          ],
          "name": "stdout"
        }
      ]
    },
    {
      "metadata": {
        "id": "ukMe9A-niSc-",
        "colab_type": "code",
        "colab": {
          "base_uri": "https://localhost:8080/",
          "height": 68
        },
        "outputId": "83bda631-41b8-4e97-bbe7-31b8d6e4e589"
      },
      "cell_type": "code",
      "source": [
        "!npm install -g solc"
      ],
      "execution_count": 36,
      "outputs": [
        {
          "output_type": "stream",
          "text": [
            "\u001b[K\u001b[?25h/tools/node/bin/solcjs -> /tools/node/lib/node_modules/solc/solcjs\n",
            "+ solc@0.4.25\n",
            "added 66 packages from 33 contributors in 4.23s\n"
          ],
          "name": "stdout"
        }
      ]
    },
    {
      "metadata": {
        "id": "fsecwnUJZOKb",
        "colab_type": "code",
        "colab": {}
      },
      "cell_type": "code",
      "source": [
        "from solc import compile_standard\n",
        "import hashlib as hasher\n",
        "import json\n",
        "import csv"
      ],
      "execution_count": 0,
      "outputs": []
    },
    {
      "metadata": {
        "id": "jcbHJDziICko",
        "colab_type": "code",
        "colab": {}
      },
      "cell_type": "code",
      "source": [
        "#Information to be stored:\n",
        "# Timestamp\n",
        "# Name (Private)\n",
        "# Age\n",
        "# Location\n",
        "# Probable cause\n",
        "# Vector type"
      ],
      "execution_count": 0,
      "outputs": []
    },
    {
      "metadata": {
        "id": "Zk4n2kTVLgGm",
        "colab_type": "text"
      },
      "cell_type": "markdown",
      "source": [
        "`create_transaction(self, receiver, amount, fee=0, message={},sender=None)`"
      ]
    },
    {
      "metadata": {
        "id": "FGv3KIAMKDQn",
        "colab_type": "code",
        "colab": {
          "base_uri": "https://localhost:8080/",
          "height": 51
        },
        "outputId": "0bcdffa2-06d9-473c-bd9c-631aa6c6aa9e"
      },
      "cell_type": "code",
      "source": [
        "def write_to_csv():\n",
        "  with open('names.csv', 'w') as csvfile:\n",
        "    fieldnames = ['first_name', 'last_name']\n",
        "    writer = csv.DictWriter(csvfile, fieldnames=fieldnames)\n",
        "    print(csvfile)\n",
        "\n",
        "class DiseaseBlock(Block):\n",
        "  def __init__(self, timestamp, name, age, location, probable_cause, vectype, disease, state):\n",
        "    # self.index = index\n",
        "    self.timestamp = timestamp\n",
        "    self.name = name\n",
        "    self.age = age\n",
        "    self.location = location\n",
        "    self.probable_cause = probable_cause\n",
        "    self.vectype = vectype\n",
        "    self.disease = disease\n",
        "    self.state = state\n",
        "\n",
        "def block_to_json(diseaseblock):\n",
        "  return json.dumps(diseaseblock)\n",
        "    \n",
        "def create_patient():\n",
        "  patient = {\n",
        "      \"wallet\": Wallet()\n",
        "  }\n",
        "  \n",
        "  patient[\"key\"] = patient[\"wallet\"].getPublicKey()\n",
        "  \n",
        "  return patient\n",
        "\n",
        "def main():\n",
        "  \n",
        "  patients = []\n",
        "  \n",
        "  \n",
        " # patients.append(create_patient())\n",
        "  \n",
        "#   vancouver = Wallet()\n",
        "#   user01 = vancouver.getPublicKey()\n",
        "# trans01 = patients[0][\"wallet\"].create_transaction(patients[0][\"key\"], 1, 0.5, 'Poutine.')\n",
        "  \n",
        "  dblock = DiseaseBlock(\n",
        "      timestamp=\"2018/10/12 15:31:00\",\n",
        "      name=\"John Smith\",\n",
        "      age=\"31\",\n",
        "      location=\"Brazil\",\n",
        "      probable_cause=\"Mosquito Bite\",\n",
        "      vectype=\"Mosquito\",\n",
        "      disease=\"Zika\",\n",
        "      state=\"Some place\"\n",
        "  )\n",
        "  print(dblock.vectype)\n",
        "  \n",
        "  coin = BlockChain()\n",
        "  \n",
        "  proof = coin.mine_proof()\n",
        "  \n",
        "  coin.save_chain()\n",
        "\n",
        "write_to_csv()\n",
        "\n",
        "main()"
      ],
      "execution_count": 21,
      "outputs": [
        {
          "output_type": "stream",
          "text": [
            "<_io.TextIOWrapper name='names.csv' mode='w' encoding='UTF-8'>\n",
            "Mosquito\n"
          ],
          "name": "stdout"
        }
      ]
    }
  ]
}