{
  "nbformat": 4,
  "nbformat_minor": 0,
  "metadata": {
    "colab": {
      "name": "blockchain.ipynb",
      "version": "0.3.2",
      "provenance": [],
      "collapsed_sections": [],
      "toc_visible": true,
      "include_colab_link": true
    },
    "kernelspec": {
      "name": "python3",
      "display_name": "Python 3"
    }
  },
  "cells": [
    {
      "cell_type": "markdown",
      "metadata": {
        "id": "view-in-github",
        "colab_type": "text"
      },
      "source": [
        "[View in Colaboratory](https://colab.research.google.com/github/vghorakavi/InfectiousBlockchain/blob/blockchain/blockchain.ipynb)"
      ]
    },
    {
      "metadata": {
        "id": "09sM8lWNH_l7",
        "colab_type": "code",
        "colab": {}
      },
      "cell_type": "code",
      "source": [
        "from easy_blockchain.blockchain import Block, BlockChain\n",
        "import hashlib as hasher"
      ],
      "execution_count": 0,
      "outputs": []
    },
    {
      "metadata": {
        "id": "jcbHJDziICko",
        "colab_type": "code",
        "colab": {}
      },
      "cell_type": "code",
      "source": [
        "#Information to be stored:\n",
        "# Vector type\n",
        "# Location\n",
        "# Timestamp"
      ],
      "execution_count": 0,
      "outputs": []
    },
    {
      "metadata": {
        "id": "VFE052-_I6u1",
        "colab_type": "code",
        "colab": {}
      },
      "cell_type": "code",
      "source": [
        "#class DiseaseBlock extends Block\n",
        "\n",
        "class DiseaseBlock(Block):\n",
        "  def __init__(self, index, timestamp, vectype, disease):\n",
        "    self.index = index\n",
        "    self.timestamp = timestamp\n",
        "    self.vectype = vectype\n",
        "    self.disease = disease\n",
        "    #self."
      ],
      "execution_count": 0,
      "outputs": []
    },
    {
      "metadata": {
        "id": "Zk4n2kTVLgGm",
        "colab_type": "text"
      },
      "cell_type": "markdown",
      "source": [
        "`create_transaction(self, receiver, amount, fee=0, message={},sender=None)`"
      ]
    },
    {
      "metadata": {
        "id": "FGv3KIAMKDQn",
        "colab_type": "code",
        "colab": {
          "base_uri": "https://localhost:8080/",
          "height": 51
        },
        "outputId": "d60522e3-2bc2-4d9e-ec9f-28d330934e53"
      },
      "cell_type": "code",
      "source": [
        "def main():\n",
        "  print(\"Sanity check\")\n",
        "  \n",
        "  patients = []\n",
        "  \n",
        "  patients.append({ \"wallet\": Wallet() })\n",
        "  patients[0][\"key\"] = patients[0][\"wa\"]\n",
        "  \n",
        "  vancouver = Wallet()\n",
        "  user01 = vancouver.getPublicKey()\n",
        "  trans01 = vancouver.create_transaction('', 1, 0.5, 'Poutine.')\n",
        "  \n",
        "  dblock = DiseaseBlock(index = 0, timestamp = \"2018/10/12 14:23:00\", vectype = \"Mosquito\", disease =\"Zika\")\n",
        "  print(dblock.vectype)\n",
        "\n",
        "main()"
      ],
      "execution_count": 13,
      "outputs": [
        {
          "output_type": "stream",
          "text": [
            "Sanity check\n",
            "Mosquito\n"
          ],
          "name": "stdout"
        }
      ]
    }
  ]
}